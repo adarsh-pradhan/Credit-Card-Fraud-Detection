{
 "cells": [
  {
   "cell_type": "code",
   "execution_count": 1,
   "id": "69df1669",
   "metadata": {},
   "outputs": [
    {
     "name": "stdout",
     "output_type": "stream",
     "text": [
      "              precision    recall  f1-score   support\n",
      "\n",
      "           0       0.91      1.00      0.95    257815\n",
      "           1       1.00      0.90      0.95    257815\n",
      "\n",
      "    accuracy                           0.95    515630\n",
      "   macro avg       0.95      0.95      0.95    515630\n",
      "weighted avg       0.95      0.95      0.95    515630\n",
      "\n"
     ]
    }
   ],
   "source": [
    "# Importing Libraries\n",
    "\n",
    "import numpy as np\n",
    "import pandas as pd\n",
    "import datetime as dt\n",
    "from sklearn.model_selection import train_test_split\n",
    "from imblearn.over_sampling import SMOTE\n",
    "from sklearn.ensemble import RandomForestClassifier\n",
    "from sklearn.metrics import classification_report\n",
    "from sklearn.metrics import roc_auc_score\n",
    "import joblib\n",
    "import pickle\n",
    "\n",
    "\n",
    "# Loading dataset\n",
    "data = pd.read_csv(r\"fraudTrain.csv\")\n",
    "\n",
    "testing = data[:10000]\n",
    "\n",
    "useful_columns = ['category', 'amt', 'zip', 'lat', 'long', 'city_pop', 'merch_lat', 'merch_long',\n",
    "                  'trans_date_trans_time', 'dob', 'is_fraud']\n",
    "sample = data[useful_columns].copy()\n",
    "\n",
    "# Converting DOB into age\n",
    "\n",
    "sample['age'] = dt.date.today().year-pd.to_datetime(sample['dob']).dt.year\n",
    "sample['hour'] = pd.to_datetime(sample['trans_date_trans_time']).dt.hour\n",
    "sample['day'] = pd.to_datetime(sample['trans_date_trans_time']).dt.dayofweek\n",
    "sample['month'] = pd.to_datetime(sample['trans_date_trans_time']).dt.month\n",
    "sample.pop('trans_date_trans_time')\n",
    "sample.pop('dob')\n",
    "\n",
    "y = sample.pop('is_fraud')\n",
    "\n",
    "# Converting categorical data into dummy variables\n",
    "X = pd.get_dummies(sample, drop_first=True)\n",
    "\n",
    "# Train Test Split\n",
    "X_train, X_test, y_train, y_test = train_test_split(X, y, test_size=0.2, random_state=42)\n",
    "\n",
    "new_X_train, new_y_train = SMOTE().fit_resample(X_train, y_train)\n",
    "new_X_test, new_y_test = SMOTE().fit_resample(X_test, y_test)\n",
    "\n",
    "\n",
    "# Model fitting\n",
    "\n",
    "rfc = RandomForestClassifier(random_state=42)\n",
    "rfc.fit(new_X_train, new_y_train)\n",
    "print(classification_report(new_y_test, rfc.predict(new_X_test)))\n",
    "\n",
    "\"\"\"filename = \"rfc_model_1.joblib\"\n",
    "joblib.dump(rfc, filename)\"\"\"\n",
    "\n",
    "# loaded_model = joblib.load(\"rfc_model_1.joblib\")\n",
    "\n",
    "# Saving the model to a pickle file\n",
    "pickle.dump(rfc, open('model.pkl', 'wb'))\n"
   ]
  }
 ],
 "metadata": {
  "kernelspec": {
   "display_name": "Python 3 (ipykernel)",
   "language": "python",
   "name": "python3"
  },
  "language_info": {
   "codemirror_mode": {
    "name": "ipython",
    "version": 3
   },
   "file_extension": ".py",
   "mimetype": "text/x-python",
   "name": "python",
   "nbconvert_exporter": "python",
   "pygments_lexer": "ipython3",
   "version": "3.9.13"
  }
 },
 "nbformat": 4,
 "nbformat_minor": 5
}
